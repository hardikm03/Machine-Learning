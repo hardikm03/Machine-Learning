{
  "nbformat": 4,
  "nbformat_minor": 0,
  "metadata": {
    "kernelspec": {
      "name": "python3",
      "display_name": "Python 3"
    },
    "toc": {
      "nav_menu": {},
      "number_sections": true,
      "sideBar": true,
      "skip_h1_title": false,
      "toc_cell": true,
      "toc_position": {},
      "toc_section_display": "block",
      "toc_window_display": false
    },
    "colab": {
      "name": "Copy of CO -CST  Neural_network_for_Mnist_number_dataset.ipynb",
      "provenance": [],
      "collapsed_sections": []
    },
    "accelerator": "GPU"
  },
  "cells": [
    {
      "cell_type": "markdown",
      "metadata": {
        "toc": true,
        "id": "zQvT7bhRzp4e"
      },
      "source": [
        "<h1>Table of Contents<span class=\"tocSkip\"></span></h1>\n",
        "<div class=\"toc\" style=\"margin-top: 1em;\"><ul class=\"toc-item\"><li><span><a href=\"#Loading-the-MNIST-dataset-in-Keras\" data-toc-modified-id=\"Loading-the-MNIST-dataset-in-Keras-1\"><span class=\"toc-item-num\">1&nbsp;&nbsp;</span>Loading the MNIST dataset in Keras</a></span></li><li><span><a href=\"#The-network-architecture\" data-toc-modified-id=\"The-network-architecture-2\"><span class=\"toc-item-num\">2&nbsp;&nbsp;</span>The network architecture</a></span></li><li><span><a href=\"#The-compilation-step\" data-toc-modified-id=\"The-compilation-step-3\"><span class=\"toc-item-num\">3&nbsp;&nbsp;</span>The compilation step</a></span></li><li><span><a href=\"#Preparing-the-image-data\" data-toc-modified-id=\"Preparing-the-image-data-4\"><span class=\"toc-item-num\">4&nbsp;&nbsp;</span>Preparing the image data</a></span></li><li><span><a href=\"#Preparing-the-labels\" data-toc-modified-id=\"Preparing-the-labels-5\"><span class=\"toc-item-num\">5&nbsp;&nbsp;</span>Preparing the labels</a></span></li><li><span><a href=\"#Training-and-Testing\" data-toc-modified-id=\"Training-and-Testing-6\"><span class=\"toc-item-num\">6&nbsp;&nbsp;</span>Training and Testing</a></span></li></ul></div>"
      ]
    },
    {
      "cell_type": "markdown",
      "metadata": {
        "id": "GSee4zKUzp4i"
      },
      "source": [
        "# Loading the MNIST dataset in Keras"
      ]
    },
    {
      "cell_type": "code",
      "metadata": {
        "id": "6a8IveFHzp4l"
      },
      "source": [
        "from keras.datasets import mnist"
      ],
      "execution_count": null,
      "outputs": []
    },
    {
      "cell_type": "code",
      "source": [
        "\n"
      ],
      "metadata": {
        "id": "sZLd8oxsTXdD"
      },
      "execution_count": null,
      "outputs": []
    },
    {
      "cell_type": "code",
      "metadata": {
        "id": "LQPmnZ8xzp4v",
        "colab": {
          "base_uri": "https://localhost:8080/"
        },
        "outputId": "3669e6a8-d75f-4e44-924f-c8facae9522c"
      },
      "source": [
        "(train_images, train_labels), (test_images, test_labels) = mnist.load_data()"
      ],
      "execution_count": null,
      "outputs": [
        {
          "output_type": "stream",
          "name": "stdout",
          "text": [
            "Downloading data from https://storage.googleapis.com/tensorflow/tf-keras-datasets/mnist.npz\n",
            "11493376/11490434 [==============================] - 0s 0us/step\n",
            "11501568/11490434 [==============================] - 0s 0us/step\n"
          ]
        }
      ]
    },
    {
      "cell_type": "markdown",
      "metadata": {
        "id": "mnZfS9HYzp4z"
      },
      "source": [
        "- The images are encoded as Numpy arrays, and the labels are an array of digits, ranging from 0 to 9."
      ]
    },
    {
      "cell_type": "code",
      "metadata": {
        "id": "VFdoffSmzp41",
        "outputId": "6384f316-4597-4d8b-967c-9aadfe370691",
        "colab": {
          "base_uri": "https://localhost:8080/"
        }
      },
      "source": [
        "train_images.shape"
      ],
      "execution_count": null,
      "outputs": [
        {
          "output_type": "execute_result",
          "data": {
            "text/plain": [
              "(60000, 28, 28)"
            ]
          },
          "metadata": {},
          "execution_count": 3
        }
      ]
    },
    {
      "cell_type": "code",
      "metadata": {
        "id": "tD65nC-vzp45",
        "outputId": "a832f8da-9ba3-4bc4-a09f-43282ae83b67",
        "colab": {
          "base_uri": "https://localhost:8080/"
        }
      },
      "source": [
        "len(train_labels)"
      ],
      "execution_count": null,
      "outputs": [
        {
          "output_type": "execute_result",
          "data": {
            "text/plain": [
              "60000"
            ]
          },
          "metadata": {},
          "execution_count": 4
        }
      ]
    },
    {
      "cell_type": "code",
      "metadata": {
        "id": "IX9LpWNazp4_",
        "outputId": "8e1ac790-0b96-48da-89f3-6da5c36c7ddc",
        "colab": {
          "base_uri": "https://localhost:8080/"
        }
      },
      "source": [
        "train_labels"
      ],
      "execution_count": null,
      "outputs": [
        {
          "output_type": "execute_result",
          "data": {
            "text/plain": [
              "array([5, 0, 4, ..., 5, 6, 8], dtype=uint8)"
            ]
          },
          "metadata": {},
          "execution_count": 5
        }
      ]
    },
    {
      "cell_type": "code",
      "metadata": {
        "id": "SG0L5p4Dzp5D",
        "outputId": "7818d1b3-8f73-4e5a-b7f9-9610d93cd434",
        "colab": {
          "base_uri": "https://localhost:8080/"
        }
      },
      "source": [
        "test_images.shape"
      ],
      "execution_count": null,
      "outputs": [
        {
          "output_type": "execute_result",
          "data": {
            "text/plain": [
              "(10000, 28, 28)"
            ]
          },
          "metadata": {},
          "execution_count": 6
        }
      ]
    },
    {
      "cell_type": "code",
      "metadata": {
        "id": "MimOH_Xnzp5I",
        "outputId": "145dd309-3a6e-459f-ada7-88d4665eb124",
        "colab": {
          "base_uri": "https://localhost:8080/"
        }
      },
      "source": [
        "len(test_labels)"
      ],
      "execution_count": null,
      "outputs": [
        {
          "output_type": "execute_result",
          "data": {
            "text/plain": [
              "10000"
            ]
          },
          "metadata": {},
          "execution_count": 7
        }
      ]
    },
    {
      "cell_type": "code",
      "metadata": {
        "id": "8EHR0v0Bzp5M",
        "outputId": "c697de87-b05b-4f8b-f915-4d89bd1ab52e",
        "colab": {
          "base_uri": "https://localhost:8080/"
        }
      },
      "source": [
        "test_labels"
      ],
      "execution_count": null,
      "outputs": [
        {
          "output_type": "execute_result",
          "data": {
            "text/plain": [
              "array([7, 2, 1, ..., 4, 5, 6], dtype=uint8)"
            ]
          },
          "metadata": {},
          "execution_count": 8
        }
      ]
    },
    {
      "cell_type": "markdown",
      "metadata": {
        "id": "s0Tp6nDRzp5R"
      },
      "source": [
        "Let's build the network"
      ]
    },
    {
      "cell_type": "markdown",
      "metadata": {
        "id": "WxbJXg2Czp5T"
      },
      "source": [
        "# The network architecture"
      ]
    },
    {
      "cell_type": "markdown",
      "metadata": {
        "id": "kGCxNrDdzp5U"
      },
      "source": [
        "- The core building block of neural networks is the **layer**, a data-processing module that you can think of as a filter for data.\n",
        "    - Some data goes in, and it comes out in a more useful form.\n",
        "    - Layers extract **representations** (hopefully, meaningful for the data problem at hand) out of the data fed into them.\n",
        "    \n",
        "- Most of deep learning consists of chaining together simple layers that will implement a form of progressive **data distillation**.\n",
        "- A deep learning model is like a sieve for data-processing, made of a succession of increasingly refined data filters--**the layers**."
      ]
    },
    {
      "cell_type": "code",
      "metadata": {
        "id": "uyUqGjPTzp5V"
      },
      "source": [
        "from keras import models\n",
        "from keras import layers"
      ],
      "execution_count": null,
      "outputs": []
    },
    {
      "cell_type": "code",
      "metadata": {
        "id": "NEVk0S9_zp5a"
      },
      "source": [
        "network = models.Sequential()\n",
        "# Dense(512) is a fully-connected layer with 512 hidden units.\n",
        "# in the first layer, you must specify the expected input data shape :\n",
        "# here, 28 X 28=784 -dimensional vectors.\n",
        "network.add(layers.Dense(32, activation='relu', input_shape=(28 * 28, )))\n",
        "network.add(layers.Dense(16, activation='tanh'))\n",
        "network.add(layers.Dense(10, activation='softmax'))"
      ],
      "execution_count": null,
      "outputs": []
    },
    {
      "cell_type": "markdown",
      "metadata": {
        "id": "Af2c2tvKzp5f"
      },
      "source": [
        "- Our network consists of a sequence of two *Dense* layers, which are densely connected (also called *fully connected*) neural layers.\n",
        "- The second (and last) layer is a **10-way** *softmax* layer, which means it will return an array of **10** probability scores. Each score will be the probability that the current digit image belongs to one of our 10 digit classes. "
      ]
    },
    {
      "cell_type": "markdown",
      "metadata": {
        "id": "NHbqJ-rWzp5g"
      },
      "source": [
        "# The compilation step"
      ]
    },
    {
      "cell_type": "markdown",
      "metadata": {
        "id": "1w0ne5wYzp5h"
      },
      "source": [
        "- To make the network ready for training, we need to pick three more things, as part of the **compilation** step:\n",
        " - **A loss function**-- How the network will be able to measure its performance on the training data, and thus how it will be able to steer itself in the right direction.\n",
        " - **An optimizer**--The mechanism through which the network will update itself based on the data it sees and its loss function.\n",
        " - **Metrics to monitor during training and testing**--Here, we will only care about accuracy (the fraction of the images that were correctly classified)."
      ]
    },
    {
      "cell_type": "code",
      "metadata": {
        "id": "uvSO-q9Ozp5i"
      },
      "source": [
        "network.compile(optimizer='adam',\n",
        "                loss='categorical_crossentropy',\n",
        "                metrics=['accuracy'])\n",
        "    #One HOt Encoding "
      ],
      "execution_count": null,
      "outputs": []
    },
    {
      "cell_type": "markdown",
      "source": [
        ""
      ],
      "metadata": {
        "id": "CfjSj9oXUG7-"
      }
    },
    {
      "cell_type": "markdown",
      "metadata": {
        "id": "fLHJqTLXzp5o"
      },
      "source": [
        "# Preparing the image data"
      ]
    },
    {
      "cell_type": "markdown",
      "metadata": {
        "id": "ajWKVl1-zp5q"
      },
      "source": [
        "Before training, we will preprocess the data by reshaping it into the shape the network expects and scaling it so that all values are in the $[0-1]$ interval."
      ]
    },
    {
      "cell_type": "code",
      "metadata": {
        "id": "4vMdz75Wzp5s"
      },
      "source": [
        "train_images = train_images.reshape((60000, 28 * 28))\n",
        "train_images = train_images.astype('float32') / 255."
      ],
      "execution_count": null,
      "outputs": []
    },
    {
      "cell_type": "code",
      "metadata": {
        "id": "4icW7vDgzp5w"
      },
      "source": [
        "test_images = test_images.reshape((10000, 28 * 28))\n",
        "test_images = test_images.astype('float32') / 255."
      ],
      "execution_count": null,
      "outputs": []
    },
    {
      "cell_type": "markdown",
      "metadata": {
        "id": "0SHD8Vvhzp5z"
      },
      "source": [
        "# Preparing the labels"
      ]
    },
    {
      "cell_type": "markdown",
      "metadata": {
        "id": "JA1YmuF1zp51"
      },
      "source": [
        "We also need to categorically encode the labels."
      ]
    },
    {
      "cell_type": "code",
      "metadata": {
        "id": "Bh42ABtgzp58"
      },
      "source": [
        "from tensorflow.keras.utils import to_categorical"
      ],
      "execution_count": null,
      "outputs": []
    },
    {
      "cell_type": "code",
      "metadata": {
        "id": "3eCqlapJzp6A",
        "outputId": "956daa63-effb-4950-c95e-b413743a1a04",
        "colab": {
          "base_uri": "https://localhost:8080/"
        }
      },
      "source": [
        "train_labels = to_categorical(train_labels)\n",
        "train_labels"
      ],
      "execution_count": null,
      "outputs": [
        {
          "output_type": "execute_result",
          "data": {
            "text/plain": [
              "array([[0., 0., 0., ..., 0., 0., 0.],\n",
              "       [1., 0., 0., ..., 0., 0., 0.],\n",
              "       [0., 0., 0., ..., 0., 0., 0.],\n",
              "       ...,\n",
              "       [0., 0., 0., ..., 0., 0., 0.],\n",
              "       [0., 0., 0., ..., 0., 0., 0.],\n",
              "       [0., 0., 0., ..., 0., 1., 0.]], dtype=float32)"
            ]
          },
          "metadata": {},
          "execution_count": 15
        }
      ]
    },
    {
      "cell_type": "code",
      "metadata": {
        "id": "wWXDQKNBzp6E",
        "colab": {
          "base_uri": "https://localhost:8080/"
        },
        "outputId": "dd4885cb-d5bd-4d85-eca2-f09bd92379ec"
      },
      "source": [
        "test_labels = to_categorical(test_labels)\n",
        "test_labels"
      ],
      "execution_count": null,
      "outputs": [
        {
          "output_type": "execute_result",
          "data": {
            "text/plain": [
              "array([[0., 0., 0., ..., 1., 0., 0.],\n",
              "       [0., 0., 1., ..., 0., 0., 0.],\n",
              "       [0., 1., 0., ..., 0., 0., 0.],\n",
              "       ...,\n",
              "       [0., 0., 0., ..., 0., 0., 0.],\n",
              "       [0., 0., 0., ..., 0., 0., 0.],\n",
              "       [0., 0., 0., ..., 0., 0., 0.]], dtype=float32)"
            ]
          },
          "metadata": {},
          "execution_count": 16
        }
      ]
    },
    {
      "cell_type": "markdown",
      "metadata": {
        "id": "csJ7yQVxzp6I"
      },
      "source": [
        "# Training and Testing"
      ]
    },
    {
      "cell_type": "markdown",
      "metadata": {
        "id": "P-KLV-VIzp6K"
      },
      "source": [
        "We are now ready to train the network, which in Keras is done via a call to the network's fit method--we fit the model to its training data:"
      ]
    },
    {
      "cell_type": "code",
      "metadata": {
        "id": "sGWa7zXYzp6O",
        "outputId": "1c11fbf5-7f14-4717-925a-aef9e8e92fb4",
        "colab": {
          "base_uri": "https://localhost:8080/"
        }
      },
      "source": [
        "network.fit(train_images, train_labels, epochs=30, batch_size=54)"
      ],
      "execution_count": null,
      "outputs": [
        {
          "output_type": "stream",
          "name": "stdout",
          "text": [
            "Epoch 1/30\n",
            "1112/1112 [==============================] - 6s 3ms/step - loss: 0.4564 - accuracy: 0.8860\n",
            "Epoch 2/30\n",
            "1112/1112 [==============================] - 3s 3ms/step - loss: 0.1821 - accuracy: 0.9481\n",
            "Epoch 3/30\n",
            "1112/1112 [==============================] - 3s 3ms/step - loss: 0.1352 - accuracy: 0.9603\n",
            "Epoch 4/30\n",
            "1112/1112 [==============================] - 3s 3ms/step - loss: 0.1102 - accuracy: 0.9674\n",
            "Epoch 5/30\n",
            "1112/1112 [==============================] - 3s 3ms/step - loss: 0.0955 - accuracy: 0.9717\n",
            "Epoch 6/30\n",
            "1112/1112 [==============================] - 3s 3ms/step - loss: 0.0847 - accuracy: 0.9751\n",
            "Epoch 7/30\n",
            "1112/1112 [==============================] - 3s 3ms/step - loss: 0.0771 - accuracy: 0.9769\n",
            "Epoch 8/30\n",
            "1112/1112 [==============================] - 3s 3ms/step - loss: 0.0701 - accuracy: 0.9785\n",
            "Epoch 9/30\n",
            "1112/1112 [==============================] - 3s 3ms/step - loss: 0.0628 - accuracy: 0.9809\n",
            "Epoch 10/30\n",
            "1112/1112 [==============================] - 3s 3ms/step - loss: 0.0593 - accuracy: 0.9817\n",
            "Epoch 11/30\n",
            "1112/1112 [==============================] - 3s 3ms/step - loss: 0.0547 - accuracy: 0.9831\n",
            "Epoch 12/30\n",
            "1112/1112 [==============================] - 3s 3ms/step - loss: 0.0508 - accuracy: 0.9849\n",
            "Epoch 13/30\n",
            "1112/1112 [==============================] - 3s 3ms/step - loss: 0.0484 - accuracy: 0.9851\n",
            "Epoch 14/30\n",
            "1112/1112 [==============================] - 3s 3ms/step - loss: 0.0447 - accuracy: 0.9865\n",
            "Epoch 15/30\n",
            "1112/1112 [==============================] - 3s 3ms/step - loss: 0.0410 - accuracy: 0.9875\n",
            "Epoch 16/30\n",
            "1112/1112 [==============================] - 3s 3ms/step - loss: 0.0402 - accuracy: 0.9878\n",
            "Epoch 17/30\n",
            "1112/1112 [==============================] - 3s 3ms/step - loss: 0.0370 - accuracy: 0.9887\n",
            "Epoch 18/30\n",
            "1112/1112 [==============================] - 3s 3ms/step - loss: 0.0346 - accuracy: 0.9898\n",
            "Epoch 19/30\n",
            "1112/1112 [==============================] - 3s 3ms/step - loss: 0.0342 - accuracy: 0.9896\n",
            "Epoch 20/30\n",
            "1112/1112 [==============================] - 3s 3ms/step - loss: 0.0313 - accuracy: 0.9911\n",
            "Epoch 21/30\n",
            "1112/1112 [==============================] - 3s 3ms/step - loss: 0.0313 - accuracy: 0.9905\n",
            "Epoch 22/30\n",
            "1112/1112 [==============================] - 3s 3ms/step - loss: 0.0294 - accuracy: 0.9912\n",
            "Epoch 23/30\n",
            "1112/1112 [==============================] - 3s 3ms/step - loss: 0.0266 - accuracy: 0.9919\n",
            "Epoch 24/30\n",
            "1112/1112 [==============================] - 3s 3ms/step - loss: 0.0260 - accuracy: 0.9922\n",
            "Epoch 25/30\n",
            "1112/1112 [==============================] - 3s 3ms/step - loss: 0.0244 - accuracy: 0.9926\n",
            "Epoch 26/30\n",
            "1112/1112 [==============================] - 3s 3ms/step - loss: 0.0239 - accuracy: 0.9933\n",
            "Epoch 27/30\n",
            "1112/1112 [==============================] - 3s 3ms/step - loss: 0.0237 - accuracy: 0.9928\n",
            "Epoch 28/30\n",
            "1112/1112 [==============================] - 3s 3ms/step - loss: 0.0214 - accuracy: 0.9934\n",
            "Epoch 29/30\n",
            "1112/1112 [==============================] - 3s 3ms/step - loss: 0.0217 - accuracy: 0.9933\n",
            "Epoch 30/30\n",
            "1112/1112 [==============================] - 3s 3ms/step - loss: 0.0213 - accuracy: 0.9936\n"
          ]
        },
        {
          "output_type": "execute_result",
          "data": {
            "text/plain": [
              "<keras.callbacks.History at 0x7fb0ae3a6ed0>"
            ]
          },
          "metadata": {},
          "execution_count": 17
        }
      ]
    },
    {
      "cell_type": "markdown",
      "metadata": {
        "id": "heVasO26zp6V"
      },
      "source": [
        "- Two quantities are displayed during training:\n",
        "    - The loss of the network over the training data\n",
        "    - The accuracy of the network over the training data\n",
        "    \n",
        "- We quickly reach an accuracy of **$0.9886 (98.86\\%)$** on the training data."
      ]
    },
    {
      "cell_type": "markdown",
      "metadata": {
        "id": "0eDaNGAYzp6X"
      },
      "source": [
        "- Now let's check that the model performs well on the test set, too:"
      ]
    },
    {
      "cell_type": "code",
      "metadata": {
        "id": "2-UhmyTWzp6Y",
        "outputId": "2fb13433-8f03-4d13-e5e0-b7a9fc898564",
        "colab": {
          "base_uri": "https://localhost:8080/"
        }
      },
      "source": [
        "test_loss, test_acc = network.evaluate(test_images, test_labels)"
      ],
      "execution_count": null,
      "outputs": [
        {
          "output_type": "stream",
          "name": "stdout",
          "text": [
            "313/313 [==============================] - 1s 2ms/step - loss: 0.1436 - accuracy: 0.9679\n"
          ]
        }
      ]
    },
    {
      "cell_type": "code",
      "metadata": {
        "id": "omz-cZXLzp6d",
        "outputId": "4125990e-c28f-43e9-f427-5e5da59c48eb",
        "colab": {
          "base_uri": "https://localhost:8080/"
        }
      },
      "source": [
        "print('Test Accuracy: {:.5f} '.format(test_acc))"
      ],
      "execution_count": null,
      "outputs": [
        {
          "output_type": "stream",
          "name": "stdout",
          "text": [
            "Test Accuracy: 0.96790 \n"
          ]
        }
      ]
    },
    {
      "cell_type": "code",
      "metadata": {
        "id": "cbIp64KFzp6g",
        "outputId": "9c7a4934-34d0-4cf6-9749-ed7b69959fd1",
        "colab": {
          "base_uri": "https://localhost:8080/"
        }
      },
      "source": [
        "test_acc"
      ],
      "execution_count": null,
      "outputs": [
        {
          "output_type": "execute_result",
          "data": {
            "text/plain": [
              "0.9678999781608582"
            ]
          },
          "metadata": {},
          "execution_count": 20
        }
      ]
    },
    {
      "cell_type": "markdown",
      "metadata": {
        "id": "yi5jDr-0zp6k"
      },
      "source": [
        "- The test-set accuracy turns out to be $97.780\\%$--that is quite a bit lower than the training set accuracy. This gap between training and test accuracy is an example of **overfitting**:the fact that the ML models tend to perform worse on new data than on their training data."
      ]
    },
    {
      "cell_type": "code",
      "metadata": {
        "id": "JOu1IQW6zp6l",
        "outputId": "90f3915b-877b-4eba-8b0b-5b06a2d47f5b",
        "colab": {
          "base_uri": "https://localhost:8080/",
          "height": 369
        }
      },
      "source": [
        "from tensorflow.keras.utils import plot_model\n",
        "plot_model(network, to_file='model.png')"
      ],
      "execution_count": null,
      "outputs": [
        {
          "output_type": "execute_result",
          "data": {
            "text/plain": [
              "<IPython.core.display.Image object>"
            ],
            "image/png": "[encoded data removed]"
          },
          "metadata": {},
          "execution_count": 21
        }
      ]
    },
    {
      "cell_type": "code",
      "metadata": {
        "id": "LVvUxpAkOQuz",
        "outputId": "87879dbe-a014-434d-cc8a-0bf06bbb4cfc",
        "colab": {
          "base_uri": "https://localhost:8080/",
          "height": 1000
        }
      },
      "source": [
        "import matplotlib.pyplot as plt\n",
        "history =network.fit(train_images, train_labels, validation_split=0.33,epochs=20, batch_size=64)\n",
        "history_dict = history.history\n",
        "print(history_dict.keys())\n",
        "plt.plot(history.history['accuracy'])\n",
        "plt.plot(history.history['val_accuracy'])\n",
        "plt.title('Model accuracy')\n",
        "plt.ylabel('Accuracy')\n",
        "plt.xlabel('Epoch')\n",
        "plt.legend(['Train', 'Test'], loc='upper left')\n",
        "plt.show()\n",
        "\n",
        "# Plot training & validation loss values\n",
        "plt.plot(history.history['loss'])\n",
        "plt.plot(history.history['val_loss'])\n",
        "plt.title('Model loss')\n",
        "plt.ylabel('Loss')\n",
        "plt.xlabel('Epoch')\n",
        "plt.legend(['Train', 'Test'], loc='upper left')\n",
        "plt.show()"
      ],
      "execution_count": null,
      "outputs": [
        {
          "output_type": "stream",
          "name": "stdout",
          "text": [
            "Epoch 1/20\n",
            "629/629 [==============================] - 2s 4ms/step - loss: 0.0163 - accuracy: 0.9955 - val_loss: 0.0154 - val_accuracy: 0.9958\n",
            "Epoch 2/20\n",
            "629/629 [==============================] - 2s 4ms/step - loss: 0.0129 - accuracy: 0.9969 - val_loss: 0.0166 - val_accuracy: 0.9953\n",
            "Epoch 3/20\n",
            "629/629 [==============================] - 2s 3ms/step - loss: 0.0122 - accuracy: 0.9970 - val_loss: 0.0207 - val_accuracy: 0.9934\n",
            "Epoch 4/20\n",
            "629/629 [==============================] - 2s 3ms/step - loss: 0.0133 - accuracy: 0.9965 - val_loss: 0.0235 - val_accuracy: 0.9926\n",
            "Epoch 5/20\n",
            "629/629 [==============================] - 2s 3ms/step - loss: 0.0131 - accuracy: 0.9964 - val_loss: 0.0274 - val_accuracy: 0.9900\n",
            "Epoch 6/20\n",
            "629/629 [==============================] - 2s 4ms/step - loss: 0.0096 - accuracy: 0.9979 - val_loss: 0.0256 - val_accuracy: 0.9918\n",
            "Epoch 7/20\n",
            "629/629 [==============================] - 2s 4ms/step - loss: 0.0129 - accuracy: 0.9962 - val_loss: 0.0314 - val_accuracy: 0.9891\n",
            "Epoch 8/20\n",
            "629/629 [==============================] - 2s 4ms/step - loss: 0.0105 - accuracy: 0.9971 - val_loss: 0.0405 - val_accuracy: 0.9859\n",
            "Epoch 9/20\n",
            "629/629 [==============================] - 2s 4ms/step - loss: 0.0112 - accuracy: 0.9971 - val_loss: 0.0384 - val_accuracy: 0.9880\n",
            "Epoch 10/20\n",
            "629/629 [==============================] - 2s 4ms/step - loss: 0.0113 - accuracy: 0.9967 - val_loss: 0.0469 - val_accuracy: 0.9844\n",
            "Epoch 11/20\n",
            "629/629 [==============================] - 2s 4ms/step - loss: 0.0105 - accuracy: 0.9975 - val_loss: 0.0358 - val_accuracy: 0.9886\n",
            "Epoch 12/20\n",
            "629/629 [==============================] - 2s 4ms/step - loss: 0.0081 - accuracy: 0.9980 - val_loss: 0.0412 - val_accuracy: 0.9864\n",
            "Epoch 13/20\n",
            "629/629 [==============================] - 2s 4ms/step - loss: 0.0079 - accuracy: 0.9981 - val_loss: 0.0387 - val_accuracy: 0.9864\n",
            "Epoch 14/20\n",
            "629/629 [==============================] - 2s 4ms/step - loss: 0.0093 - accuracy: 0.9976 - val_loss: 0.0474 - val_accuracy: 0.9862\n",
            "Epoch 15/20\n",
            "629/629 [==============================] - 2s 4ms/step - loss: 0.0083 - accuracy: 0.9978 - val_loss: 0.0449 - val_accuracy: 0.9855\n",
            "Epoch 16/20\n",
            "629/629 [==============================] - 2s 4ms/step - loss: 0.0086 - accuracy: 0.9977 - val_loss: 0.0464 - val_accuracy: 0.9845\n",
            "Epoch 17/20\n",
            "629/629 [==============================] - 2s 4ms/step - loss: 0.0053 - accuracy: 0.9991 - val_loss: 0.0490 - val_accuracy: 0.9848\n",
            "Epoch 18/20\n",
            "629/629 [==============================] - 2s 4ms/step - loss: 0.0047 - accuracy: 0.9993 - val_loss: 0.0488 - val_accuracy: 0.9832\n",
            "Epoch 19/20\n",
            "629/629 [==============================] - 2s 4ms/step - loss: 0.0126 - accuracy: 0.9964 - val_loss: 0.0776 - val_accuracy: 0.9785\n",
            "Epoch 20/20\n",
            "629/629 [==============================] - 2s 4ms/step - loss: 0.0084 - accuracy: 0.9979 - val_loss: 0.0568 - val_accuracy: 0.9842\n",
            "dict_keys(['loss', 'accuracy', 'val_loss', 'val_accuracy'])\n"
          ]
        },
        {
          "output_type": "display_data",
          "data": {
            "text/plain": [
              "<Figure size 432x288 with 1 Axes>"
            ],
            "image/png": "[encoded data removed]"
          },
          "metadata": {
            "needs_background": "light"
          }
        },
        {
          "output_type": "display_data",
          "data": {
            "text/plain": [
              "<Figure size 432x288 with 1 Axes>"
            ],
            "image/png": "[encoded data removed]"
          },
          "metadata": {
            "needs_background": "light"
          }
        }
      ]
    }
  ]
}